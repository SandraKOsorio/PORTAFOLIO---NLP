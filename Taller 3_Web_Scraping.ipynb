{
 "cells": [
  {
   "cell_type": "markdown",
   "metadata": {},
   "source": [
    "<img src='https://encrypted-tbn0.gstatic.com/images?q=tbn%3AANd9GcQ-VfNtOyJbsaxu43Kztf_cv1mgBG6ZIQZEVw&usqp=CAU'>\n",
    "\n",
    "# Procesamiento de Lenguaje Natural\n",
    "\n",
    "## Taller # 3: Web Scraping\n",
    "`Fecha de entrega: Marzo 11, 2021. (Antes del inicio de la próxima clase).`"
   ]
  },
  {
   "cell_type": "markdown",
   "metadata": {},
   "source": [
    "# Punto 1:\n",
    "\n",
    "- `[15 pts]` Hacer Web Scraping de 10 animales en Wikipedia (en búcle)\n",
    "- `[10 pts]` Obtener el **encabezado** de cada animal\n",
    "- `[15 pts]` Obtener todos los **textos** que están en las etiquetas de negrilla del primer párrafo."
   ]
  },
  {
   "cell_type": "markdown",
   "metadata": {},
   "source": [
    "# Solución"
   ]
  },
  {
   "cell_type": "code",
   "execution_count": 1,
   "metadata": {},
   "outputs": [],
   "source": [
    "import bs4 as bs \n",
    "import urllib.request\n",
    "import re"
   ]
  },
  {
   "cell_type": "markdown",
   "metadata": {},
   "source": [
    "**Hacer Web Scraping de 10 animales en Wikipedia (en búcle)**"
   ]
  },
  {
   "cell_type": "code",
   "execution_count": 2,
   "metadata": {},
   "outputs": [
    {
     "data": {
      "text/plain": [
       "['https://es.wikipedia.org/wiki/Pez',\n",
       " 'https://es.wikipedia.org/wiki/Mustela_putorius_furo',\n",
       " 'https://es.wikipedia.org/wiki/Panthera_leo',\n",
       " 'https://es.wikipedia.org/wiki/Testudines',\n",
       " 'https://es.wikipedia.org/wiki/Balaenidae',\n",
       " 'https://es.wikipedia.org/wiki/Ailuropoda_melanoleuca',\n",
       " 'https://es.wikipedia.org/wiki/Delphinidae',\n",
       " 'https://es.wikipedia.org/wiki/Ovis_orientalis_aries',\n",
       " 'https://es.wikipedia.org/wiki/Mus_(animal)',\n",
       " 'https://es.wikipedia.org/wiki/Lagartija']"
      ]
     },
     "execution_count": 2,
     "metadata": {},
     "output_type": "execute_result"
    }
   ],
   "source": [
    "animalitos = [\"https://es.wikipedia.org/wiki/Pez\", \"https://es.wikipedia.org/wiki/Mustela_putorius_furo\", \"https://es.wikipedia.org/wiki/Panthera_leo\", \"https://es.wikipedia.org/wiki/Testudines\", \"https://es.wikipedia.org/wiki/Balaenidae\", \"https://es.wikipedia.org/wiki/Ailuropoda_melanoleuca\",\n",
    "              \"https://es.wikipedia.org/wiki/Delphinidae\", \"https://es.wikipedia.org/wiki/Ovis_orientalis_aries\", \"https://es.wikipedia.org/wiki/Mus_(animal)\", \"https://es.wikipedia.org/wiki/Lagartija\"]\n",
    "animalitos"
   ]
  },
  {
   "cell_type": "markdown",
   "metadata": {},
   "source": [
    "**Encabezado de cada animal**"
   ]
  },
  {
   "cell_type": "code",
   "execution_count": 3,
   "metadata": {},
   "outputs": [
    {
     "name": "stdout",
     "output_type": "stream",
     "text": [
      "Especie: Pez\n",
      "Especie: Mustela putorius furo\n",
      "Especie: Panthera leo\n",
      "Especie: Testudines\n",
      "Especie: Balaenidae\n",
      "Especie: Ailuropoda melanoleuca\n",
      "Especie: Delphinidae\n",
      "Especie: Ovis orientalis aries\n",
      "Especie: Mus (animal)\n",
      "Especie: Lagartija\n"
     ]
    }
   ],
   "source": [
    "for i in animalitos:\n",
    "    animal = urllib.request.Request(i, headers={'User-Agent': 'Mozilla/5.0'})\n",
    "    webpage = urllib.request.urlopen(animal)\n",
    "    source = webpage.read()\n",
    "    webpage.close()\n",
    "    i= bs.BeautifulSoup(source, 'html.parser')\n",
    "    Especies = i.find(\"h1\").text\n",
    "    print (f'Especie: {Especies}')    "
   ]
  },
  {
   "cell_type": "markdown",
   "metadata": {},
   "source": [
    "**Obtener todos los textos que están en las etiquetas de negrilla del primer párrafo**"
   ]
  },
  {
   "cell_type": "code",
   "execution_count": 4,
   "metadata": {},
   "outputs": [
    {
     "name": "stdout",
     "output_type": "stream",
     "text": [
      "peces\n",
      "hurón\n",
      "Mustela putorius furo\n",
      "león\n",
      "Panthera leo\n",
      "tortugas\n",
      "quelonios\n",
      "Testudines\n",
      "balénidos\n",
      "Balaenidae\n",
      "ballena\n",
      "panda\n",
      "oso panda\n",
      "panda gigante\n",
      "Ailuropoda melanoleuca\n",
      "delfines\n",
      "Delphinidae\n",
      "delfines oceánicos\n",
      "oveja\n",
      "Ovis orientalis aries\n",
      "Mus\n",
      "ratones\n",
      "lagartija\n"
     ]
    }
   ],
   "source": [
    "for n in animalitos:\n",
    "    animal = urllib.request.Request(n, headers={'User-Agent': 'Mozilla/5.0'})\n",
    "    webpage = urllib.request.urlopen(animal)\n",
    "    source = webpage.read()\n",
    "    webpage.close()  \n",
    "    n= bs.BeautifulSoup(source, 'html.parser')\n",
    "    animal1 = n.find(\"p\").find_all(\"b\")\n",
    "    for a in animal1:\n",
    "        print(a.get_text())"
   ]
  },
  {
   "cell_type": "markdown",
   "metadata": {},
   "source": [
    "# Punto 2:\n",
    "- `[10 pts]` Usando regex, reemplazar todas las caracteres especiales del punto anterior (palabras en negrilla) por un asterisco (¡Ojo, los espacios se quedan!)\n"
   ]
  },
  {
   "cell_type": "code",
   "execution_count": 5,
   "metadata": {},
   "outputs": [
    {
     "name": "stdout",
     "output_type": "stream",
     "text": [
      "peces\n",
      "hur*n\n",
      "Mustela putorius furo\n",
      "le*n\n",
      "Panthera leo\n",
      "tortugas\n",
      "quelonios\n",
      "Testudines\n",
      "bal*nidos\n",
      "Balaenidae\n",
      "ballena\n",
      "panda\n",
      "oso panda\n",
      "panda gigante\n",
      "Ailuropoda melanoleuca\n",
      "delfines\n",
      "Delphinidae\n",
      "delfines oce*nicos\n",
      "oveja\n",
      "Ovis orientalis aries\n",
      "Mus\n",
      "ratones\n",
      "lagartija\n"
     ]
    }
   ],
   "source": [
    "for n in animalitos:\n",
    "    animal = urllib.request.Request(n, headers={'User-Agent': 'Mozilla/5.0'})\n",
    "    webpage = urllib.request.urlopen(animal)\n",
    "    source = webpage.read()\n",
    "    webpage.close()  \n",
    "    n= bs.BeautifulSoup(source, 'html.parser')\n",
    "    animal1 = n.find(\"p\").find_all(\"b\")\n",
    "    for a in animal1:\n",
    "        print(re.sub(r\"[^a-zA-Z\\s]\", \"*\", a.get_text()))"
   ]
  },
  {
   "cell_type": "markdown",
   "metadata": {},
   "source": [
    "**Realizado por: Sandra Karina Osorio Ch. - G51**"
   ]
  }
 ],
 "metadata": {
  "kernelspec": {
   "display_name": "Python 3",
   "language": "python",
   "name": "python3"
  },
  "language_info": {
   "codemirror_mode": {
    "name": "ipython",
    "version": 3
   },
   "file_extension": ".py",
   "mimetype": "text/x-python",
   "name": "python",
   "nbconvert_exporter": "python",
   "pygments_lexer": "ipython3",
   "version": "3.8.5"
  }
 },
 "nbformat": 4,
 "nbformat_minor": 2
}
