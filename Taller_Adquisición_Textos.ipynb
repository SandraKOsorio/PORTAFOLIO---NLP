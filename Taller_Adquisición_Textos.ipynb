{
 "cells": [
  {
   "cell_type": "markdown",
   "metadata": {},
   "source": [
    "<img src='https://encrypted-tbn0.gstatic.com/images?q=tbn%3AANd9GcQ-VfNtOyJbsaxu43Kztf_cv1mgBG6ZIQZEVw&usqp=CAU'>\n",
    "\n",
    "# Procesamiento de Lenguage Natural\n",
    "\n",
    "(Profe Lenguaje es con j)\n",
    "\n",
    "## Taller # 2: Adquisición de textos\n",
    "`Fecha de entrega: Marzo 4, 2021. (Antes del inicio de la próxima clase).`"
   ]
  },
  {
   "cell_type": "markdown",
   "metadata": {},
   "source": [
    "# Punto 1:\n",
    "\n",
    "- `[18 pts]` Descomprimir el archivo `.zip` de `python_books`\n",
    "- `[22 pts]` Leer cada uno de sus archivos\n",
    "- `[10 pts]` Responder: ¿Cuál archivo tiene el mayor número de palabras?"
   ]
  },
  {
   "cell_type": "markdown",
   "metadata": {},
   "source": [
    "**1. Descomprimir el archivo .zip de python_books**"
   ]
  },
  {
   "cell_type": "code",
   "execution_count": 34,
   "metadata": {},
   "outputs": [],
   "source": [
    "import os\n",
    "from zipfile import ZipFile\n",
    "import fitz "
   ]
  },
  {
   "cell_type": "code",
   "execution_count": 2,
   "metadata": {},
   "outputs": [],
   "source": [
    "direccion = 'C:/Users/user/Documents/ESPECIALIZACION/LNP/archivos/python_books.zip'"
   ]
  },
  {
   "cell_type": "code",
   "execution_count": 3,
   "metadata": {},
   "outputs": [],
   "source": [
    "with ZipFile(direccion) as archivo:\n",
    "    archivo.extractall(\"C:/Users/user/Documents/ESPECIALIZACION/LNP/archivos/\")    "
   ]
  },
  {
   "cell_type": "code",
   "execution_count": 4,
   "metadata": {},
   "outputs": [],
   "source": [
    "with ZipFile(direccion) as archivo:\n",
    "    archivo.extractall"
   ]
  },
  {
   "cell_type": "code",
   "execution_count": 5,
   "metadata": {},
   "outputs": [],
   "source": [
    "# Borrar carpeta que genera desde Python\n",
    "\n",
    "import shutil\n",
    "shutil.rmtree(\"C:/Users/user/Documents/ESPECIALIZACION/LNP/archivos/__MACOSX\")"
   ]
  },
  {
   "cell_type": "markdown",
   "metadata": {},
   "source": [
    "**2. Leer archivos del .zip**"
   ]
  },
  {
   "cell_type": "code",
   "execution_count": 6,
   "metadata": {},
   "outputs": [
    {
     "name": "stdout",
     "output_type": "stream",
     "text": [
      "('C:/Users/user/Documents/ESPECIALIZACION/LNP/archivos/python_books', [], ['Python  Data Science Cookbook.pdf', 'Python - AWS.pdf', 'Python - Finance.pdf'])\n"
     ]
    }
   ],
   "source": [
    "# 2. Leer archivos del .zip\n",
    "\n",
    "for archivo in os.walk(\"C:/Users/user/Documents/ESPECIALIZACION/LNP/archivos/python_books\"):\n",
    "    print(archivo)"
   ]
  },
  {
   "cell_type": "code",
   "execution_count": 7,
   "metadata": {},
   "outputs": [
    {
     "name": "stdout",
     "output_type": "stream",
     "text": [
      "C:/Users/user/Documents/ESPECIALIZACION/LNP/archivos/python_books [] ['Python  Data Science Cookbook.pdf', 'Python - AWS.pdf', 'Python - Finance.pdf']\n"
     ]
    }
   ],
   "source": [
    "# Solo los archivos visible\n",
    "for raiz, dirs, archivos in os.walk(\"C:/Users/user/Documents/ESPECIALIZACION/LNP/archivos/python_books\"):\n",
    "       print(raiz, dirs, archivos)\t"
   ]
  },
  {
   "cell_type": "code",
   "execution_count": 92,
   "metadata": {},
   "outputs": [
    {
     "name": "stdout",
     "output_type": "stream",
     "text": [
      "C:/Users/user/Documents/ESPECIALIZACION/LNP/archivos/python_books [] ['Python  Data Science Cookbook.pdf', 'Python - AWS.pdf', 'Python - Finance.pdf']\n",
      "C:/Users/user/Documents/ESPECIALIZACION/LNP/archivos/python_books [] ['Python  Data Science Cookbook.pdf', 'Python - AWS.pdf', 'Python - Finance.pdf']\n",
      "C:/Users/user/Documents/ESPECIALIZACION/LNP/archivos/python_books [] ['Python  Data Science Cookbook.pdf', 'Python - AWS.pdf', 'Python - Finance.pdf']\n"
     ]
    }
   ],
   "source": [
    "for raiz, dirs, archivos in os.walk(\"C:/Users/user/Documents/ESPECIALIZACION/LNP/archivos/python_books\"):\n",
    "    for a in archivos: \n",
    "        print(raiz, dirs, archivos)"
   ]
  },
  {
   "cell_type": "code",
   "execution_count": 8,
   "metadata": {},
   "outputs": [
    {
     "name": "stdout",
     "output_type": "stream",
     "text": [
      "Python  Data Science Cookbook.pdf\n",
      "Python - AWS.pdf\n",
      "Python - Finance.pdf\n"
     ]
    }
   ],
   "source": [
    "for raiz, dirs, archivos in os.walk(\"C:/Users/user/Documents/ESPECIALIZACION/LNP/archivos/python_books\"):\n",
    "    for a in archivos: \n",
    "        print(a)    "
   ]
  },
  {
   "cell_type": "markdown",
   "metadata": {},
   "source": [
    "**3. ¿Cuál archivo tiene el mayor número de palabras?**"
   ]
  },
  {
   "cell_type": "code",
   "execution_count": 38,
   "metadata": {
    "scrolled": true
   },
   "outputs": [
    {
     "name": "stdout",
     "output_type": "stream",
     "text": [
      "Archivo:  Python  Data Science Cookbook.pdf -  # páginas:  1 - Número de Palabras:  535\n",
      "Archivo:  Python - AWS.pdf -  # páginas:  1 - Número de Palabras:  254\n",
      "Archivo:  Python - Finance.pdf -  # páginas:  1 - Número de Palabras:  226\n"
     ]
    }
   ],
   "source": [
    "for raiz, dirs, archivos in os.walk(\"C:/Users/user/Documents/ESPECIALIZACION/LNP/archivos/python_books\"):\n",
    "        for a in archivos:\n",
    "            documento = fitz.open(\"C:/Users/user/Documents/ESPECIALIZACION/LNP/archivos/python_books/\"+ a)\n",
    "            pagina = documento.loadPage(0)\n",
    "            texto = pagina.getText(\"text\")\n",
    "            data= texto.split()\n",
    "             \n",
    "            print(\"Archivo: \", a, \"-\", \" # páginas: \", documento.pageCount, \"-\", 'Número de Palabras: ', len(data))"
   ]
  },
  {
   "cell_type": "markdown",
   "metadata": {},
   "source": [
    "**El archivo con más palabras es \"Data Science Cookbook.pdf\"**"
   ]
  }
 ],
 "metadata": {
  "kernelspec": {
   "display_name": "Python 3",
   "language": "python",
   "name": "python3"
  },
  "language_info": {
   "codemirror_mode": {
    "name": "ipython",
    "version": 3
   },
   "file_extension": ".py",
   "mimetype": "text/x-python",
   "name": "python",
   "nbconvert_exporter": "python",
   "pygments_lexer": "ipython3",
   "version": "3.8.5"
  }
 },
 "nbformat": 4,
 "nbformat_minor": 2
}
